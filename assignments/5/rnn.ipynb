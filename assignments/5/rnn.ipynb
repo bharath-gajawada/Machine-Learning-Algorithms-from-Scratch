{
 "cells": [
  {
   "cell_type": "markdown",
   "metadata": {},
   "source": [
    "# 4 RNN"
   ]
  },
  {
   "cell_type": "markdown",
   "metadata": {},
   "source": [
    "## 4.1 Counting Bits"
   ]
  },
  {
   "cell_type": "markdown",
   "metadata": {},
   "source": [
    "### 4.1.1 Task 1 : Dataset"
   ]
  },
  {
   "cell_type": "code",
   "execution_count": 26,
   "metadata": {},
   "outputs": [],
   "source": [
    "import torch"
   ]
  },
  {
   "cell_type": "code",
   "execution_count": 27,
   "metadata": {},
   "outputs": [],
   "source": [
    "num_samples = 100000\n",
    "min_length = 1\n",
    "max_length = 16\n",
    "\n",
    "torch.manual_seed(42)\n",
    "sequences = []\n",
    "labels = []\n",
    "\n",
    "for _ in range(num_samples):\n",
    "    length = torch.randint(min_length, max_length + 1, (1,)).item()\n",
    "    sequence = torch.randint(0, 2, (length,)).tolist()\n",
    "    count_ones = sum(sequence)\n",
    "    sequences.append(sequence)\n",
    "    labels.append(count_ones)"
   ]
  },
  {
   "cell_type": "code",
   "execution_count": 28,
   "metadata": {},
   "outputs": [],
   "source": [
    "train_size = int(num_samples * 0.8)\n",
    "val_size = int(num_samples * 0.1)\n",
    "test_size = num_samples - train_size - val_size\n",
    "\n",
    "train_sequences, train_labels = sequences[:train_size], labels[:train_size]\n",
    "val_sequences, val_labels = sequences[train_size:train_size + val_size], labels[train_size:train_size + val_size]\n",
    "test_sequences, test_labels = sequences[train_size + val_size:], labels[train_size + val_size:]"
   ]
  },
  {
   "cell_type": "code",
   "execution_count": 29,
   "metadata": {},
   "outputs": [
    {
     "data": {
      "text/plain": [
       "[([1, 0, 0, 0, 1, 0, 0], 2),\n",
       " ([1, 0, 0, 0, 0, 1, 0], 2),\n",
       " ([1, 1, 0, 1], 3),\n",
       " ([1, 1, 1, 1, 1], 5),\n",
       " ([1, 1], 2)]"
      ]
     },
     "execution_count": 29,
     "metadata": {},
     "output_type": "execute_result"
    }
   ],
   "source": [
    "train_examples = [(train_sequences[i], train_labels[i]) for i in range(5)]\n",
    "train_examples"
   ]
  },
  {
   "cell_type": "markdown",
   "metadata": {},
   "source": [
    "### 4.1.2 Task 2 : Architecture"
   ]
  },
  {
   "cell_type": "code",
   "execution_count": 30,
   "metadata": {},
   "outputs": [],
   "source": [
    "import torch\n",
    "import torch.nn as nn\n",
    "from torch.nn.utils.rnn import pack_padded_sequence, pad_packed_sequence"
   ]
  },
  {
   "cell_type": "code",
   "execution_count": 31,
   "metadata": {},
   "outputs": [],
   "source": [
    "class CharLevelRNN(nn.Module):\n",
    "    def __init__(self, input_size=1, hidden_size=32, num_layers=1, dropout=0.0):\n",
    "        super(CharLevelRNN, self).__init__()\n",
    "        self.hidden_size = hidden_size\n",
    "        self.num_layers = num_layers\n",
    "\n",
    "        self.rnn = nn.RNN(input_size=input_size, hidden_size=hidden_size, num_layers=num_layers, batch_first=True, nonlinearity='relu', dropout=dropout)\n",
    "\n",
    "        self.fc = nn.Linear(hidden_size, 1)\n",
    "\n",
    "    def forward(self, x, lengths):\n",
    "        h0 = torch.zeros(self.num_layers, x.size(0), self.hidden_size).to(x.device)\n",
    "\n",
    "        packed_x = pack_padded_sequence(x, lengths, batch_first=True, enforce_sorted=False)\n",
    "        packed_out, _ = self.rnn(packed_x, h0)\n",
    "\n",
    "        out, _ = pad_packed_sequence(packed_out, batch_first=True)\n",
    "\n",
    "        out = out[range(out.size(0)), lengths - 1]\n",
    "\n",
    "        out = self.fc(out)\n",
    "        return out\n"
   ]
  },
  {
   "cell_type": "code",
   "execution_count": 32,
   "metadata": {},
   "outputs": [],
   "source": [
    "model = CharLevelRNN(input_size=1, hidden_size=32, num_layers=2, dropout=0.1)"
   ]
  },
  {
   "cell_type": "markdown",
   "metadata": {},
   "source": [
    "### 4.1.3 Task 3 : Training"
   ]
  },
  {
   "cell_type": "code",
   "execution_count": 33,
   "metadata": {},
   "outputs": [],
   "source": [
    "import torch.optim as optim\n",
    "from torch.utils.data import DataLoader, Dataset\n",
    "from torch.nn.utils.rnn import pad_sequence"
   ]
  },
  {
   "cell_type": "code",
   "execution_count": 34,
   "metadata": {},
   "outputs": [],
   "source": [
    "class BinarySequenceDataset(Dataset):\n",
    "    def __init__(self, sequences, labels):\n",
    "        self.sequences = sequences\n",
    "        self.labels = labels\n",
    "\n",
    "    def __len__(self):\n",
    "        return len(self.sequences)\n",
    "\n",
    "    def __getitem__(self, idx):\n",
    "        sequence = torch.tensor(self.sequences[idx], dtype=torch.float32).unsqueeze(-1)\n",
    "        label = torch.tensor(self.labels[idx], dtype=torch.float32)\n",
    "        return sequence, label\n",
    "\n",
    "def collate_fn(batch):\n",
    "    sequences, labels = zip(*batch)\n",
    "    sequences_padded = pad_sequence(sequences, batch_first=True)\n",
    "    labels = torch.stack(labels)\n",
    "    return sequences_padded, labels"
   ]
  },
  {
   "cell_type": "code",
   "execution_count": 35,
   "metadata": {},
   "outputs": [],
   "source": [
    "train_dataset = BinarySequenceDataset(train_sequences, train_labels)\n",
    "val_dataset = BinarySequenceDataset(val_sequences, val_labels)\n",
    "\n",
    "train_loader = DataLoader(\n",
    "    train_dataset, batch_size=64, shuffle=True, collate_fn=collate_fn\n",
    ")\n",
    "val_loader = DataLoader(\n",
    "    val_dataset, batch_size=64, shuffle=False, collate_fn=collate_fn\n",
    ")"
   ]
  },
  {
   "cell_type": "code",
   "execution_count": null,
   "metadata": {},
   "outputs": [],
   "source": []
  },
  {
   "cell_type": "code",
   "execution_count": null,
   "metadata": {},
   "outputs": [],
   "source": [
    "device = torch.device('cuda' if torch.cuda.is_available() else 'cpu')"
   ]
  },
  {
   "cell_type": "code",
   "execution_count": null,
   "metadata": {},
   "outputs": [
    {
     "name": "stdout",
     "output_type": "stream",
     "text": [
      "Epoch 1/10, Train Loss: 0.7544, Validation Loss: 0.0191, Validation MAE: 0.0932\n",
      "Epoch 2/10, Train Loss: 0.0314, Validation Loss: 0.0026, Validation MAE: 0.0336\n",
      "Epoch 3/10, Train Loss: 0.0233, Validation Loss: 0.0017, Validation MAE: 0.0289\n",
      "Epoch 4/10, Train Loss: 0.0203, Validation Loss: 0.0010, Validation MAE: 0.0243\n",
      "Epoch 5/10, Train Loss: 0.0177, Validation Loss: 0.0055, Validation MAE: 0.0678\n",
      "Epoch 6/10, Train Loss: 0.0154, Validation Loss: 0.0019, Validation MAE: 0.0306\n",
      "Epoch 7/10, Train Loss: 0.0139, Validation Loss: 0.0018, Validation MAE: 0.0355\n",
      "Epoch 8/10, Train Loss: 0.0127, Validation Loss: 0.0020, Validation MAE: 0.0373\n",
      "Epoch 9/10, Train Loss: 0.0124, Validation Loss: 0.0010, Validation MAE: 0.0262\n",
      "Epoch 10/10, Train Loss: 0.0115, Validation Loss: 0.0018, Validation MAE: 0.0326\n"
     ]
    }
   ],
   "source": [
    "model.to(device)\n",
    "criterion = nn.MSELoss()\n",
    "optimizer = optim.Adam(model.parameters(), lr=0.001)\n",
    "\n",
    "num_epochs = 10\n",
    "for epoch in range(num_epochs):\n",
    "    model.train()\n",
    "    train_loss = 0.0\n",
    "    for sequences, labels in train_loader:\n",
    "        sequences, labels = sequences.to(device), labels.to(device)\n",
    "\n",
    "        lengths = torch.tensor([len(seq) for seq in sequences]).cpu().to(torch.int64)\n",
    "\n",
    "        outputs = model(sequences, lengths).squeeze()\n",
    "        loss = criterion(outputs, labels)\n",
    "\n",
    "        optimizer.zero_grad()\n",
    "        loss.backward()\n",
    "        optimizer.step()\n",
    "\n",
    "        train_loss += loss.item()\n",
    "\n",
    "    model.eval()\n",
    "    val_loss = 0.0\n",
    "    val_mae = 0.0\n",
    "    with torch.no_grad():\n",
    "        for sequences, labels in val_loader:\n",
    "            sequences, labels = sequences.to(device), labels.to(device)\n",
    "            lengths = torch.tensor([len(seq) for seq in sequences]).cpu().to(torch.int64)\n",
    "            outputs = model(sequences, lengths).squeeze()\n",
    "\n",
    "            val_loss += criterion(outputs, labels).item()\n",
    "            val_mae += torch.mean(torch.abs(outputs - labels)).item()\n",
    "\n",
    "    train_loss /= len(train_loader)\n",
    "    val_loss /= len(val_loader)\n",
    "    val_mae /= len(val_loader)\n",
    "    \n",
    "    print(f\"Epoch {epoch + 1}/{num_epochs}, Train Loss: {train_loss:.4f}, Validation Loss: {val_loss:.4f}, Validation MAE: {val_mae:.4f}\")\n"
   ]
  },
  {
   "cell_type": "code",
   "execution_count": 38,
   "metadata": {},
   "outputs": [
    {
     "name": "stdout",
     "output_type": "stream",
     "text": [
      "Random Baseline MAE: 5.5174\n"
     ]
    }
   ],
   "source": [
    "def random_baseline(val_loader):\n",
    "    random_mae = 0.0\n",
    "\n",
    "    with torch.no_grad():\n",
    "        for sequences, labels in val_loader:\n",
    "            batch_size = len(labels)\n",
    "            sequence_lengths = [len(seq) for seq in sequences]\n",
    "            random_predictions = torch.tensor(\n",
    "                [torch.randint(0, seq_len + 1, (1,)).item() for seq_len in sequence_lengths],\n",
    "                dtype=torch.float32\n",
    "            )\n",
    "            random_mae += torch.mean(torch.abs(random_predictions - labels)).item()\n",
    "\n",
    "    random_mae /= len(val_loader)\n",
    "    print(f\"Random Baseline MAE: {random_mae:.4f}\")\n",
    "\n",
    "random_baseline(val_loader)\n"
   ]
  },
  {
   "cell_type": "markdown",
   "metadata": {},
   "source": [
    "### 4.1.4 Task 4 : Generalization"
   ]
  },
  {
   "cell_type": "code",
   "execution_count": 39,
   "metadata": {},
   "outputs": [],
   "source": [
    "start_length = 17\n",
    "end_length = 32\n",
    "num_samples = 100\n",
    "\n",
    "ood_sequences = []\n",
    "ood_labels = []\n",
    "\n",
    "for length in range(start_length, end_length + 1):\n",
    "    for _ in range(num_samples):\n",
    "        seq = torch.randint(0, 2, (length, 1), dtype=torch.float32)\n",
    "        label = seq.sum().item()\n",
    "        ood_sequences.append(seq)\n",
    "        ood_labels.append(label)"
   ]
  },
  {
   "cell_type": "code",
   "execution_count": 40,
   "metadata": {},
   "outputs": [],
   "source": [
    "model.eval()\n",
    "length_maes = []\n",
    "\n",
    "with torch.no_grad():\n",
    "    for length in range(17, 33):\n",
    "        length_sequences = [seq for seq in ood_sequences if len(seq) == length]\n",
    "        length_labels = [ood_labels[i] for i, seq in enumerate(ood_sequences) if len(seq) == length]\n",
    "\n",
    "        sequences_batch = pad_sequence(length_sequences, batch_first=True).to(device)\n",
    "        labels_batch = torch.tensor(length_labels, dtype=torch.float32).to(device)\n",
    "\n",
    "        lengths = torch.tensor([len(seq) for seq in length_sequences]).cpu().to(torch.int64)\n",
    "\n",
    "        predictions = model(sequences_batch, lengths).squeeze()\n",
    "\n",
    "        mae = torch.mean(torch.abs(predictions - labels_batch)).item()\n",
    "        length_maes.append(mae)\n",
    "\n",
    "ood_maes = length_maes\n"
   ]
  },
  {
   "cell_type": "code",
   "execution_count": null,
   "metadata": {},
   "outputs": [
    {
     "data": {
      "image/png": "[encoded data removed]",
      "text/plain": [
       "<Figure size 1000x600 with 1 Axes>"
      ]
     },
     "metadata": {},
     "output_type": "display_data"
    }
   ],
   "source": [
    "import matplotlib.pyplot as plt\n",
    "\n",
    "sequence_lengths = list(range(17, 33))\n",
    "plt.figure(figsize=(10, 6))\n",
    "plt.plot(sequence_lengths, ood_maes, marker=\"o\", label=\"Model MAE\")\n",
    "plt.xlabel(\"Sequence Length\")\n",
    "plt.ylabel(\"Mean Absolute Error (MAE)\")\n",
    "plt.title(\"Generalization Performance on OOD Data\")\n",
    "plt.legend()\n",
    "plt.grid()\n",
    "plt.show()\n"
   ]
  },
  {
   "cell_type": "markdown",
   "metadata": {},
   "source": [
    "The model performs well on sequence lengths close to the training range (e.g., 17-20), but its performance degrade as sequence lengths increase, highlighting its limits in generalizing.\n",
    "\n",
    "The model’s performance on unseen sequence lengths depends on its architecture and the range of data it was trained on. As its trained only on shorter sequences, the model may struggle with longer ones. More diverse training data and a robust architecture could improve generalization."
   ]
  },
  {
   "cell_type": "markdown",
   "metadata": {},
   "source": [
    "## 4.2 Optical Character Recognition"
   ]
  },
  {
   "cell_type": "code",
   "execution_count": null,
   "metadata": {},
   "outputs": [],
   "source": [
    "import random\n",
    "import numpy as np\n",
    "import matplotlib.pyplot as plt\n",
    "from PIL import Image, ImageDraw, ImageFont\n",
    "import nltk\n",
    "from nltk.corpus import words\n",
    "import torch\n",
    "from torch.utils.data import Dataset, DataLoader, random_split\n",
    "import torch.nn as nn\n",
    "import torch.optim as optim\n",
    "import torch.functional as F"
   ]
  },
  {
   "cell_type": "code",
   "execution_count": null,
   "metadata": {},
   "outputs": [
    {
     "name": "stdout",
     "output_type": "stream",
     "text": [
      "Using device: cuda\n"
     ]
    }
   ],
   "source": [
    "device = torch.device(\"cuda\" if torch.cuda.is_available() else \"cpu\")\n",
    "print(f\"Using device: {device}\")"
   ]
  },
  {
   "cell_type": "markdown",
   "metadata": {},
   "source": [
    "### 4.2.1 Task 1 : Dataset"
   ]
  },
  {
   "cell_type": "code",
   "execution_count": null,
   "metadata": {},
   "outputs": [
    {
     "name": "stderr",
     "output_type": "stream",
     "text": [
      "[nltk_data] Downloading package words to /home/bharath/nltk_data...\n",
      "[nltk_data]   Package words is already up-to-date!\n"
     ]
    },
    {
     "data": {
      "text/plain": [
       "True"
      ]
     },
     "metadata": {},
     "output_type": "display_data"
    }
   ],
   "source": [
    "nltk.download('words')"
   ]
  },
  {
   "cell_type": "code",
   "execution_count": null,
   "metadata": {},
   "outputs": [
    {
     "name": "stdout",
     "output_type": "stream",
     "text": [
      "Unique letters: ['-', 'A', 'B', 'C', 'D', 'E', 'F', 'G', 'H', 'I', 'J', 'K', 'L', 'M', 'N', 'O', 'P', 'Q', 'R', 'S', 'T', 'U', 'V', 'W', 'X', 'Y', 'Z', 'a', 'b', 'c', 'd', 'e', 'f', 'g', 'h', 'i', 'j', 'k', 'l', 'm', 'n', 'o', 'p', 'q', 'r', 's', 't', 'u', 'v', 'w', 'x', 'y', 'z']\n"
     ]
    }
   ],
   "source": [
    "word_list = words.words()\n",
    "\n",
    "unique_letters = set()\n",
    "\n",
    "for word in word_list:\n",
    "    unique_letters.update(set(word))\n",
    "\n",
    "print(\"Unique letters:\", sorted(unique_letters))"
   ]
  },
  {
   "cell_type": "code",
   "execution_count": null,
   "metadata": {},
   "outputs": [
    {
     "name": "stdout",
     "output_type": "stream",
     "text": [
      "Vocabulary size: 54\n"
     ]
    }
   ],
   "source": [
    "class Vocabulary:\n",
    "    def __init__(self, unique_letters):\n",
    "        self.char2idx = {char: idx + 1 for idx, char in enumerate(sorted(unique_letters))}\n",
    "        self.char2idx[\"<PAD>\"] = 0\n",
    "        self.idx2char = {idx: char for char, idx in self.char2idx.items()}\n",
    "\n",
    "    def encode(self, word):\n",
    "        return [self.char2idx[char] for char in word]\n",
    "\n",
    "    def decode(self, indices):\n",
    "        return ''.join(self.idx2char[idx] for idx in indices if idx != 0)\n",
    "\n",
    "vocab = Vocabulary(unique_letters)\n",
    "\n",
    "print(f\"Vocabulary size: {len(vocab.char2idx)}\")\n"
   ]
  },
  {
   "cell_type": "code",
   "execution_count": null,
   "metadata": {},
   "outputs": [],
   "source": [
    "class WordImageDataset(Dataset):\n",
    "    def __init__(self, num_samples=100000, image_size=(256, 64)):\n",
    "        self.num_samples = num_samples\n",
    "        self.image_size = image_size\n",
    "        self.word_list = words.words()\n",
    "        self.font = ImageFont.load_default()\n",
    "\n",
    "        self.max_length = max(len(word) for word in self.word_list)\n",
    "\n",
    "    def __len__(self):\n",
    "        return self.num_samples\n",
    "\n",
    "    def __getitem__(self, idx):\n",
    "        word = random.choice(self.word_list)\n",
    "        encoded_word = vocab.encode(word)\n",
    "        padded_word = encoded_word + [0] * (self.max_length - len(encoded_word))\n",
    "        label = torch.tensor(padded_word, dtype=torch.long).to(device)\n",
    "\n",
    "        image = Image.new('RGB', self.image_size, color='white')\n",
    "        draw = ImageDraw.Draw(image)\n",
    "        bbox = draw.textbbox((0, 0), word, font=self.font)\n",
    "        text_width = bbox[2] - bbox[0]\n",
    "        text_height = bbox[3] - bbox[1]\n",
    "        draw.text(((self.image_size[0] - text_width) / 2, (self.image_size[1] - text_height) / 2),\n",
    "                  word, fill='black', font=self.font)\n",
    "\n",
    "        image = np.array(image)\n",
    "        image = torch.tensor(image, dtype=torch.float32).permute(2, 0, 1).to(device) / 255.0\n",
    "        return image, label\n"
   ]
  },
  {
   "cell_type": "code",
   "execution_count": null,
   "metadata": {},
   "outputs": [
    {
     "name": "stdout",
     "output_type": "stream",
     "text": [
      "Max word length in dataset: 24\n"
     ]
    }
   ],
   "source": [
    "\n",
    "dataset = WordImageDataset()\n",
    "print(f\"Max word length in dataset: {dataset.max_length}\")"
   ]
  },
  {
   "cell_type": "code",
   "execution_count": null,
   "metadata": {},
   "outputs": [
    {
     "data": {
      "image/png": "[encoded data removed]",
      "text/plain": [
       "<Figure size 1500x500 with 5 Axes>"
      ]
     },
     "metadata": {},
     "output_type": "display_data"
    }
   ],
   "source": [
    "num_examples = 5\n",
    "plt.figure(figsize=(15, 5))\n",
    "\n",
    "for i in range(num_examples):\n",
    "    image, word = dataset[i]\n",
    "    plt.subplot(1, num_examples, i + 1)\n",
    "    plt.imshow(image.cpu().permute(1, 2, 0).numpy())\n",
    "    decoded_word = vocab.decode(word.cpu().numpy())\n",
    "    plt.title(decoded_word, fontsize=12)\n",
    "    # plt.axis('off')\n",
    "\n",
    "plt.tight_layout()\n",
    "plt.show()\n"
   ]
  },
  {
   "cell_type": "markdown",
   "metadata": {},
   "source": [
    "### 4.2.2 Task 2 : Architecture"
   ]
  },
  {
   "cell_type": "code",
   "execution_count": null,
   "metadata": {},
   "outputs": [],
   "source": [
    "class CNN(nn.Module):\n",
    "    def __init__(self):\n",
    "        super(CNN, self).__init__()\n",
    "        self.conv = nn.Sequential(\n",
    "            nn.Conv2d(3, 16, kernel_size=3, stride=1, padding=1),\n",
    "            nn.ReLU(),\n",
    "            nn.BatchNorm2d(16),\n",
    "            nn.MaxPool2d(kernel_size=2, stride=2),\n",
    "            nn.Conv2d(16, 32, kernel_size=3, stride=1, padding=1),\n",
    "            nn.ReLU(),\n",
    "            nn.BatchNorm2d(32),\n",
    "            nn.MaxPool2d(kernel_size=2, stride=2)\n",
    "        )\n",
    "    \n",
    "    def forward(self, x):\n",
    "        return self.conv(x)\n",
    "\n",
    "class RNN(nn.Module):\n",
    "    def __init__(self, input_size, hidden_size, vocab_size):\n",
    "        super(RNN, self).__init__()\n",
    "        self.lstm = nn.LSTM(input_size, hidden_size, batch_first=True)\n",
    "        self.fc = nn.Linear(hidden_size, vocab_size)\n",
    "        self.dropout = nn.Dropout(0.3)\n",
    "\n",
    "    def forward(self, x):\n",
    "        out, _ = self.lstm(x)\n",
    "        out = self.dropout(out)\n",
    "        out = self.fc(out)\n",
    "        return out\n"
   ]
  },
  {
   "cell_type": "code",
   "execution_count": null,
   "metadata": {},
   "outputs": [],
   "source": [
    "class Model(nn.Module):\n",
    "    def __init__(self, cnn, rnn, max_length):\n",
    "        super(Model, self).__init__()\n",
    "        self.cnn = cnn\n",
    "        self.rnn = rnn\n",
    "        self.max_length = max_length\n",
    "\n",
    "    def forward(self, x):\n",
    "        features = self.cnn(x)\n",
    "        batch_size, channels, height, width = features.size()\n",
    "        if width > self.max_length:\n",
    "            features = features[:, :, :, :self.max_length]\n",
    "        elif width < self.max_length:\n",
    "            padding = self.max_length - width\n",
    "            features = F.pad(features, (0, padding))\n",
    "\n",
    "        features = features.permute(0, 3, 1, 2).contiguous()\n",
    "        features = features.view(batch_size, self.max_length, -1)\n",
    "\n",
    "        output = self.rnn(features)\n",
    "        return output\n",
    "\n"
   ]
  },
  {
   "cell_type": "code",
   "execution_count": null,
   "metadata": {},
   "outputs": [],
   "source": [
    "max_length = dataset.max_length\n",
    "cnn = CNN().to(device)\n",
    "rnn = RNN(input_size=512, hidden_size=128, vocab_size=len(vocab.char2idx)).to(device)\n",
    "model = Model(cnn, rnn, max_length).to(device)"
   ]
  },
  {
   "cell_type": "markdown",
   "metadata": {},
   "source": [
    "### 4.2.3 Task 3 : Training"
   ]
  },
  {
   "cell_type": "code",
   "execution_count": null,
   "metadata": {},
   "outputs": [],
   "source": [
    "train_size = int(0.8 * len(dataset))\n",
    "val_size = len(dataset) - train_size\n",
    "train_dataset, val_dataset = random_split(dataset, [train_size, val_size])\n",
    "\n",
    "train_loader = DataLoader(train_dataset, batch_size=32, shuffle=True)\n",
    "val_loader = DataLoader(val_dataset, batch_size=32, shuffle=False)\n"
   ]
  },
  {
   "cell_type": "code",
   "execution_count": null,
   "metadata": {},
   "outputs": [],
   "source": [
    "def character_accuracy(preds, targets):\n",
    "    correct = 0\n",
    "    total = 0\n",
    "    for pred, target in zip(preds, targets):\n",
    "        correct += sum(p == t for p, t in zip(pred, target))\n",
    "        total += len(target)\n",
    "    return correct / total"
   ]
  },
  {
   "cell_type": "code",
   "execution_count": null,
   "metadata": {},
   "outputs": [
    {
     "name": "stdout",
     "output_type": "stream",
     "text": [
      "Epoch [1/10], Train Loss: 1.3901, Val Loss: 1.3620, Val Accuracy: 0.6027\n",
      "Epoch [2/10], Train Loss: 1.3673, Val Loss: 1.3855, Val Accuracy: 0.6019\n",
      "Epoch [3/10], Train Loss: 1.3664, Val Loss: 1.4948, Val Accuracy: 0.6015\n",
      "Epoch [4/10], Train Loss: 1.3640, Val Loss: 1.3712, Val Accuracy: 0.6025\n",
      "Epoch [5/10], Train Loss: 1.3629, Val Loss: 1.3799, Val Accuracy: 0.6001\n",
      "Epoch [6/10], Train Loss: 1.3650, Val Loss: 1.3911, Val Accuracy: 0.6023\n",
      "Epoch [7/10], Train Loss: 1.3656, Val Loss: 2.0164, Val Accuracy: 0.6028\n",
      "Epoch [8/10], Train Loss: 1.3647, Val Loss: 1.5707, Val Accuracy: 0.6001\n",
      "Epoch [9/10], Train Loss: 1.3642, Val Loss: 1.4547, Val Accuracy: 0.6023\n",
      "Epoch [10/10], Train Loss: 1.3620, Val Loss: 2.8134, Val Accuracy: 0.6019\n"
     ]
    }
   ],
   "source": [
    "criterion = nn.CrossEntropyLoss().to(device)\n",
    "optimizer = optim.Adam(model.parameters(), lr=0.001)\n",
    "\n",
    "num_epochs = 10\n",
    "\n",
    "for epoch in range(num_epochs):\n",
    "    model.train()\n",
    "    total_loss = 0\n",
    "    for images, labels in train_loader:\n",
    "        images, labels = images.to(device), labels.to(device)\n",
    "        optimizer.zero_grad()\n",
    "        outputs = model(images)\n",
    "        outputs = outputs.permute(0, 2, 1)\n",
    "        loss = criterion(outputs, labels)\n",
    "        loss.backward()\n",
    "        optimizer.step()\n",
    "        total_loss += loss.item()\n",
    "\n",
    "    model.eval()\n",
    "    val_loss = 0\n",
    "    all_preds, all_targets = [], []\n",
    "    with torch.no_grad():\n",
    "        for images, labels in val_loader:\n",
    "            images, labels = images.to(device), labels.to(device)\n",
    "            outputs = model(images)\n",
    "            outputs = outputs.permute(0, 2, 1)\n",
    "            val_loss += criterion(outputs, labels).item()\n",
    "            preds = outputs.argmax(dim=2).cpu().numpy()\n",
    "            all_preds.extend(preds)\n",
    "            all_targets.extend(labels.cpu().numpy())\n",
    "\n",
    "    avg_train_loss = total_loss / len(train_loader)\n",
    "    avg_val_loss = val_loss / len(val_loader)\n",
    "    val_accuracy = character_accuracy(all_preds, all_targets)\n",
    "\n",
    "    print(f'Epoch [{epoch + 1}/{num_epochs}], Train Loss: {avg_train_loss:.4f}, Val Loss: {avg_val_loss:.4f}, Val Accuracy: {val_accuracy:.4f}')\n"
   ]
  }
 ],
 "metadata": {
  "kernelspec": {
   "display_name": "Python 3",
   "language": "python",
   "name": "python3"
  },
  "language_info": {
   "codemirror_mode": {
    "name": "ipython",
    "version": 3
   },
   "file_extension": ".py",
   "mimetype": "text/x-python",
   "name": "python",
   "nbconvert_exporter": "python",
   "pygments_lexer": "ipython3",
   "version": "3.10.12"
  }
 },
 "nbformat": 4,
 "nbformat_minor": 2
}
